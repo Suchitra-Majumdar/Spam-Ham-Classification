{
 "cells": [
  {
   "cell_type": "code",
   "execution_count": 1,
   "metadata": {},
   "outputs": [
    {
     "name": "stderr",
     "output_type": "stream",
     "text": [
      "[nltk_data] Downloading package stopwords to\n",
      "[nltk_data]     C:\\Users\\SUCHITRA\\AppData\\Roaming\\nltk_data...\n",
      "[nltk_data]   Package stopwords is already up-to-date!\n",
      "[nltk_data] Downloading package punkt to\n",
      "[nltk_data]     C:\\Users\\SUCHITRA\\AppData\\Roaming\\nltk_data...\n",
      "[nltk_data]   Package punkt is already up-to-date!\n",
      "[nltk_data] Downloading package averaged_perceptron_tagger to\n",
      "[nltk_data]     C:\\Users\\SUCHITRA\\AppData\\Roaming\\nltk_data...\n",
      "[nltk_data]   Package averaged_perceptron_tagger is already up-to-\n",
      "[nltk_data]       date!\n"
     ]
    }
   ],
   "source": [
    "import pandas as pd\n",
    "import matplotlib.pyplot as plt\n",
    "from sklearn.model_selection import train_test_split\n",
    "from sklearn.feature_extraction.text import CountVectorizer\n",
    "from sklearn.naive_bayes import MultinomialNB\n",
    "from sklearn.metrics import accuracy_score\n",
    "from sklearn import metrics\n",
    "import re\n",
    "import nltk\n",
    "nltk.download('stopwords') #used once to download stopwords.\n",
    "nltk.download('punkt')\n",
    "nltk.download('averaged_perceptron_tagger')\n",
    "from nltk.corpus import stopwords\n",
    "from nltk.stem.porter import PorterStemmer"
   ]
  },
  {
   "cell_type": "code",
   "execution_count": 2,
   "metadata": {},
   "outputs": [],
   "source": [
    "messages = pd.read_csv('data/Text HAM SPAM calssification.csv')\n",
    "messages = messages.dropna()\n"
   ]
  },
  {
   "cell_type": "code",
   "execution_count": 3,
   "metadata": {},
   "outputs": [
    {
     "name": "stdout",
     "output_type": "stream",
     "text": [
      "<class 'pandas.core.frame.DataFrame'>\n",
      "Int64Index: 1726 entries, 0 to 1790\n",
      "Data columns (total 2 columns):\n",
      " #   Column    Non-Null Count  Dtype \n",
      "---  ------    --------------  ----- \n",
      " 0   Category  1726 non-null   object\n",
      " 1   Message   1726 non-null   object\n",
      "dtypes: object(2)\n",
      "memory usage: 40.5+ KB\n"
     ]
    }
   ],
   "source": [
    "messages.info()"
   ]
  },
  {
   "cell_type": "code",
   "execution_count": 4,
   "metadata": {},
   "outputs": [],
   "source": [
    "messages['Category'] = messages.Category.map({'ham':0, 'spam':1}) #Making spam/ham as 0/1 instead\n",
    "def clean_text(text):\n",
    "    text = re.sub('[^a-zA-Z]',' ',text)\n",
    "    text = text.lower()\n",
    "    text = text.split()\n",
    "    ps = PorterStemmer()\n",
    "    text = [ps.stem(word) for word in text if not word in set(stopwords.words('english'))]\n",
    "    text = ' '.join(text)\n",
    "    return text\n",
    "\n"
   ]
  },
  {
   "cell_type": "code",
   "execution_count": 9,
   "metadata": {},
   "outputs": [],
   "source": [
    "messages['Cleaned_text'] = messages['Message'].apply(lambda x:clean_text(x))\n",
    "messages['Cleaned_text'] = messages['Cleaned_text'].apply(lambda x: ' '.join([w for w in x.split() if len(w)>2]))"
   ]
  },
  {
   "cell_type": "code",
   "execution_count": 6,
   "metadata": {},
   "outputs": [
    {
     "data": {
      "text/plain": [
       "0       go jurong point crazi avail bugi n great world...\n",
       "1                                   ok lar joke wif u oni\n",
       "2       free entri wkli comp win fa cup final tkt st m...\n",
       "3                     u dun say earli hor u c alreadi say\n",
       "4          gonna pick burger way home even move pain kill\n",
       "                              ...                        \n",
       "1786                                             offic na\n",
       "1787                                     comingdown later\n",
       "1788                          super da good replac murali\n",
       "1789                           da good good player unsold\n",
       "1790       hi u want join st later meet five call u class\n",
       "Name: Cleaned_text, Length: 1726, dtype: object"
      ]
     },
     "execution_count": 6,
     "metadata": {},
     "output_type": "execute_result"
    }
   ],
   "source": [
    "messages['Cleaned_text']"
   ]
  },
  {
   "cell_type": "code",
   "execution_count": 12,
   "metadata": {},
   "outputs": [],
   "source": [
    "def preprocess(sent):\n",
    "    sent = nltk.word_tokenize(sent)\n",
    "    return sent"
   ]
  },
  {
   "cell_type": "code",
   "execution_count": 13,
   "metadata": {},
   "outputs": [],
   "source": [
    "messages['Cleaned_text'] = messages['Cleaned_text'].apply(lambda x:preprocess(x))"
   ]
  },
  {
   "cell_type": "code",
   "execution_count": 14,
   "metadata": {},
   "outputs": [
    {
     "data": {
      "text/plain": [
       "0       [jurong, point, crazi, avail, bugi, great, wor...\n",
       "1                                   [lar, joke, wif, oni]\n",
       "2       [free, entri, wkli, comp, win, cup, final, tkt...\n",
       "3                    [dun, say, earli, hor, alreadi, say]\n",
       "4       [gon, na, pick, burger, way, home, even, move,...\n",
       "                              ...                        \n",
       "1786                                              [offic]\n",
       "1787                                  [comingdown, later]\n",
       "1788                        [super, good, replac, murali]\n",
       "1789                         [good, good, player, unsold]\n",
       "1790         [want, join, later, meet, five, call, class]\n",
       "Name: Cleaned_text, Length: 1726, dtype: object"
      ]
     },
     "execution_count": 14,
     "metadata": {},
     "output_type": "execute_result"
    }
   ],
   "source": [
    "messages['Cleaned_text']"
   ]
  },
  {
   "cell_type": "code",
   "execution_count": 15,
   "metadata": {},
   "outputs": [],
   "source": [
    "messages['tokenized_text'] =messages['Cleaned_text'].apply(lambda x:' '.join(x))"
   ]
  },
  {
   "cell_type": "code",
   "execution_count": 16,
   "metadata": {},
   "outputs": [
    {
     "data": {
      "text/plain": [
       "0       jurong point crazi avail bugi great world buff...\n",
       "1                                        lar joke wif oni\n",
       "2       free entri wkli comp win cup final tkt may tex...\n",
       "3                           dun say earli hor alreadi say\n",
       "4         gon na pick burger way home even move pain kill\n",
       "                              ...                        \n",
       "1786                                                offic\n",
       "1787                                     comingdown later\n",
       "1788                             super good replac murali\n",
       "1789                              good good player unsold\n",
       "1790                 want join later meet five call class\n",
       "Name: tokenized_text, Length: 1726, dtype: object"
      ]
     },
     "execution_count": 16,
     "metadata": {},
     "output_type": "execute_result"
    }
   ],
   "source": [
    "messages['tokenized_text']"
   ]
  },
  {
   "cell_type": "code",
   "execution_count": 19,
   "metadata": {},
   "outputs": [],
   "source": [
    "from sklearn.feature_extraction.text import TfidfVectorizer\n",
    "\n",
    "tfidf_vectorizer = TfidfVectorizer()\n",
    "msg = tfidf_vectorizer.fit_transform(messages['tokenized_text']).toarray()"
   ]
  },
  {
   "cell_type": "code",
   "execution_count": 20,
   "metadata": {},
   "outputs": [
    {
     "name": "stdout",
     "output_type": "stream",
     "text": [
      "Accuracy Score:  0.9479768786127167\n",
      "AUC Score:  0.8125\n"
     ]
    },
    {
     "data": {
      "image/png": "[encoded data removed]",
      "text/plain": [
       "<Figure size 432x288 with 1 Axes>"
      ]
     },
     "metadata": {
      "needs_background": "light"
     },
     "output_type": "display_data"
    }
   ],
   "source": [
    "\n",
    "\n",
    "training_data, testing_data, y_train, y_test = train_test_split(msg, messages['Category'], test_size=0.20, random_state=0)\n",
    "\n",
    "model = MultinomialNB() #Multinomail distribution (naive bayes classification) works better in case of counts.\n",
    "\n",
    "model.fit(training_data, y_train)\n",
    "\n",
    "pred = model.predict(testing_data)\n",
    "\n",
    "accs = accuracy_score(y_test, pred)\n",
    "\n",
    "print(\"Accuracy Score: \", accs)\n",
    "\n",
    "fpr, tpr, _ = metrics.roc_curve(y_test,  pred)\n",
    "\n",
    "auc = metrics.roc_auc_score(y_test, pred) #Find AUC score for the data set based on LR\n",
    "\n",
    "print(\"AUC Score: \", auc)\n",
    "\n",
    "plt.plot(fpr,tpr,label=\"spam-ham.csv, auc=\"+str(auc))\n",
    "plt.legend(loc=4)\n",
    "plt.show()"
   ]
  },
  {
   "cell_type": "code",
   "execution_count": null,
   "metadata": {},
   "outputs": [],
   "source": []
  }
 ],
 "metadata": {
  "kernelspec": {
   "display_name": "Python 3",
   "language": "python",
   "name": "python3"
  },
  "language_info": {
   "codemirror_mode": {
    "name": "ipython",
    "version": 3
   },
   "file_extension": ".py",
   "mimetype": "text/x-python",
   "name": "python",
   "nbconvert_exporter": "python",
   "pygments_lexer": "ipython3",
   "version": "3.8.5"
  }
 },
 "nbformat": 4,
 "nbformat_minor": 4
}
